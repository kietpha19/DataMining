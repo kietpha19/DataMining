{
 "cells": [
  {
   "cell_type": "code",
   "execution_count": 20,
   "metadata": {},
   "outputs": [
    {
     "name": "stdout",
     "output_type": "stream",
     "text": [
      "2.0.3\n"
     ]
    },
    {
     "name": "stderr",
     "output_type": "stream",
     "text": [
      "[nltk_data] Downloading package wordnet to\n",
      "[nltk_data]     C:\\Users\\coron\\AppData\\Roaming\\nltk_data...\n",
      "[nltk_data]   Package wordnet is already up-to-date!\n"
     ]
    }
   ],
   "source": [
    "import pandas as pd\n",
    "print(pd. __version__)\n",
    "import nltk\n",
    "nltk.download('wordnet')\n",
    "from nltk.corpus import stopwords\n",
    "import re\n",
    "import string\n",
    "from nltk.tokenize import word_tokenize\n",
    "from nltk.corpus import stopwords\n",
    "from nltk.stem.wordnet import WordNetLemmatizer\n",
    "import isodate"
   ]
  },
  {
   "cell_type": "code",
   "execution_count": 21,
   "metadata": {},
   "outputs": [],
   "source": [
    "data = pd.read_csv('../data/random_video.csv',delimiter=\"|\" )\n",
    "data2 = pd.read_csv('../data/random_video2.csv',delimiter=\"|\" ) \n",
    "data3 = pd.read_csv('../data/random_video3.csv',delimiter=\"|\" )\n",
    "data4 = pd.read_csv('../data/random_video4.csv',delimiter=\"|\" )\n",
    "data5 = pd.read_csv('../data/random_video5.csv',delimiter=\"|\" )\n",
    "data6 = pd.read_csv('../data/random_video6.csv',delimiter=\"|\" )\n",
    "data7 = pd.read_csv('../data/random_video7.csv',delimiter=\"|\" )\n",
    "data8 = pd.read_csv('../data/random_video8.csv',delimiter=\"|\" )\n",
    "data8 = data8[data8['category'] != 'Entertainment']\n",
    "data9 = pd.read_csv('../data/random_video9.csv',delimiter=\"|\" )\n",
    "data9 = data9[data9['category'] != 'Entertainment']\n",
    "data10 = pd.read_csv('../data/random_video10.csv',delimiter=\"|\" )\n",
    "data10 = data10[data10['category'] != 'Entertainment']\n",
    "#combine the data using concat\n",
    "data = pd.concat([data, data2, data3, data4, data5, data6, data7, data8, data9, data10])\n",
    "#remove Autos & Vehicles, Comedy, Education, Movies, Nonprofits & Activism, Pets & Animals category\n",
    "data = data[data['category'] != 'Autos & Vehicles']\n",
    "data = data[data['category'] != 'Comedy']\n",
    "data = data[data['category'] != 'Education']\n",
    "data = data[data['category'] != 'Movies']\n",
    "data = data[data['category'] != 'Nonprofits & Activism']\n",
    "date = data[data['category'] != 'Pets & Animals']\n",
    "\n",
    "#get only video_id, title, description, tags, and duration\n",
    "data = data[['video_id','title','description', 'category','tags']] #'tags','duration',\n",
    "#data.head()\n",
    "\n",
    "#print the rows with category Pets & Animals\n",
    "data= data[data['category'] != 'Pets & Animals']\n",
    "data.head()\n",
    "\n",
    "#save the data to csv\n",
    "data.to_csv('../data/combined_data.csv', sep='|', index=False)"
   ]
  }
 ],
 "metadata": {
  "kernelspec": {
   "display_name": "base",
   "language": "python",
   "name": "python3"
  },
  "language_info": {
   "codemirror_mode": {
    "name": "ipython",
    "version": 3
   },
   "file_extension": ".py",
   "mimetype": "text/x-python",
   "name": "python",
   "nbconvert_exporter": "python",
   "pygments_lexer": "ipython3",
   "version": "3.11.4"
  }
 },
 "nbformat": 4,
 "nbformat_minor": 2
}
